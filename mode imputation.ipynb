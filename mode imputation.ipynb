{
 "cells": [
  {
   "cell_type": "code",
   "execution_count": 5,
   "id": "867f27ee-2bef-4654-94fe-932c9d2454a0",
   "metadata": {},
   "outputs": [
    {
     "name": "stdout",
     "output_type": "stream",
     "text": [
      "Original data\n",
      "    customer_id   age  satisfaction  likelihood_to_recommend  purchase_intent\n",
      "0            1  25.0           7.0                      8.0              5.0\n",
      "1            2   NaN           8.0                      9.0              6.0\n",
      "2            3  35.0           NaN                      7.0              7.0\n",
      "3            4  45.0           6.0                      NaN              8.0\n",
      "4            5  50.0           9.0                      8.0              NaN\n",
      "Imputed data\n",
      "    customer_id    age  satisfaction  likelihood_to_recommend  purchase_intent\n",
      "0            1  25.00           7.0                      8.0              5.0\n",
      "1            2  38.75           8.0                      9.0              6.0\n",
      "2            3  35.00           7.5                      7.0              7.0\n",
      "3            4  45.00           6.0                      8.0              8.0\n",
      "4            5  50.00           9.0                      8.0              6.5\n"
     ]
    }
   ],
   "source": [
    "import pandas as pd\n",
    "import numpy as np\n",
    "\n",
    "# Creating a sample survey dataset with missing values\n",
    "survey_data = {\n",
    "    'customer_id': [1, 2, 3, 4, 5],\n",
    "    'age': [25, np.nan, 35, 45, 50],\n",
    "    'satisfaction': [7, 8, np.nan, 6, 9],\n",
    "    'likelihood_to_recommend': [8, 9, 7, np.nan, 8],\n",
    "    'purchase_intent': [5, 6, 7, 8, np.nan]\n",
    "}\n",
    "\n",
    "survey_df = pd.DataFrame(survey_data)\n",
    "\n",
    "# Save the survey dataset to a CSV file\n",
    "survey_csv_path = 'survey_dataset.csv'\n",
    "survey_df.to_csv(survey_csv_path, index=False)\n",
    "\n",
    "# Mean imputation\n",
    "survey_df_imputed = survey_df.apply(lambda x: x.fillna(x.mean()) if x.name != 'customer_id' else x, axis=0)\n",
    "\n",
    "# Display the original and imputed datasets\n",
    "print(\"Original data\\n\",survey_df)\n",
    "print(\"Imputed data\\n\",survey_df_imputed)\n"
   ]
  },
  {
   "cell_type": "code",
   "execution_count": null,
   "id": "e73d28d3-34a7-48bd-a87b-13870a423e6f",
   "metadata": {},
   "outputs": [],
   "source": []
  }
 ],
 "metadata": {
  "kernelspec": {
   "display_name": "Python 3 (ipykernel)",
   "language": "python",
   "name": "python3"
  },
  "language_info": {
   "codemirror_mode": {
    "name": "ipython",
    "version": 3
   },
   "file_extension": ".py",
   "mimetype": "text/x-python",
   "name": "python",
   "nbconvert_exporter": "python",
   "pygments_lexer": "ipython3",
   "version": "3.12.4"
  }
 },
 "nbformat": 4,
 "nbformat_minor": 5
}
