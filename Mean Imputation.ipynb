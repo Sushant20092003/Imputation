{
 "cells": [
  {
   "cell_type": "code",
   "execution_count": 9,
   "id": "c992f03e-3011-4bd4-9030-dc19ecacf930",
   "metadata": {},
   "outputs": [
    {
     "name": "stdout",
     "output_type": "stream",
     "text": [
      "original file\n",
      "     age  weight  height  blood_pressure  cholesterol\n",
      "0  25.0    70.0   175.0           120.0        200.0\n",
      "1  30.0     NaN   180.0           130.0        210.0\n",
      "2   NaN    80.0     NaN           140.0        220.0\n",
      "3  45.0    85.0   165.0             NaN        230.0\n",
      "4  50.0    90.0   170.0           150.0          NaN\n",
      "imputed file\n",
      "     age  weight  height  blood_pressure  cholesterol\n",
      "0  25.0   70.00   175.0           120.0        200.0\n",
      "1  30.0   81.25   180.0           130.0        210.0\n",
      "2  37.5   80.00   172.5           140.0        220.0\n",
      "3  45.0   85.00   165.0           135.0        230.0\n",
      "4  50.0   90.00   170.0           150.0        215.0\n"
     ]
    }
   ],
   "source": [
    "import pandas as pd\n",
    "import numpy as np\n",
    "\n",
    "# Creating a sample dataset with missing values\n",
    "data = {\n",
    "    'age': [25, 30, np.nan, 45, 50],\n",
    "    'weight': [70, np.nan, 80, 85, 90],\n",
    "    'height': [175, 180, np.nan, 165, 170],\n",
    "    'blood_pressure': [120, 130, 140, np.nan, 150],\n",
    "    'cholesterol': [200, 210, 220, 230, np.nan]\n",
    "}\n",
    "\n",
    "df = pd.DataFrame(data)\n",
    "\n",
    "# Save the dataset to a CSV file\n",
    "csv_path = 'medical_dataset.csv'\n",
    "df.to_csv(csv_path, index=False)\n",
    "\n",
    "# Mean imputation\n",
    "df_imputed = df.apply(lambda x: x.fillna(x.mean()), axis=0)\n",
    "\n",
    "# Display the original and imputed datasets\n",
    "print(\"original file\\n\",df)\n",
    "print(\"imputed file\\n\",df_imputed)\n"
   ]
  },
  {
   "cell_type": "code",
   "execution_count": null,
   "id": "ca7441f5-b821-4194-9d20-291c04e0f40f",
   "metadata": {},
   "outputs": [],
   "source": []
  },
  {
   "cell_type": "code",
   "execution_count": null,
   "id": "591d048e-1cf9-4868-ae9b-00c31916d886",
   "metadata": {},
   "outputs": [],
   "source": []
  }
 ],
 "metadata": {
  "kernelspec": {
   "display_name": "Python 3 (ipykernel)",
   "language": "python",
   "name": "python3"
  },
  "language_info": {
   "codemirror_mode": {
    "name": "ipython",
    "version": 3
   },
   "file_extension": ".py",
   "mimetype": "text/x-python",
   "name": "python",
   "nbconvert_exporter": "python",
   "pygments_lexer": "ipython3",
   "version": "3.12.4"
  }
 },
 "nbformat": 4,
 "nbformat_minor": 5
}
